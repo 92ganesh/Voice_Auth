{
 "cells": [
  {
   "cell_type": "code",
   "execution_count": 2,
   "metadata": {},
   "outputs": [
    {
     "name": "stdout",
     "output_type": "stream",
     "text": [
      "Requirement already satisfied: SpeechRecognition in d:\\anaconda-installation\\lib\\site-packages (3.8.1)\n"
     ]
    },
    {
     "name": "stderr",
     "output_type": "stream",
     "text": [
      "You are using pip version 18.1, however version 19.2.3 is available.\n",
      "You should consider upgrading via the 'python -m pip install --upgrade pip' command.\n"
     ]
    }
   ],
   "source": [
    "!pip install SpeechRecognition"
   ]
  },
  {
   "cell_type": "code",
   "execution_count": 3,
   "metadata": {},
   "outputs": [
    {
     "name": "stdout",
     "output_type": "stream",
     "text": [
      "Collecting pip\n",
      "  Downloading https://files.pythonhosted.org/packages/30/db/9e38760b32e3e7f40cce46dd5fb107b8c73840df38f0046d8e6514e675a1/pip-19.2.3-py2.py3-none-any.whl (1.4MB)\n",
      "Installing collected packages: pip\n",
      "  Found existing installation: pip 18.1\n",
      "    Uninstalling pip-18.1:\n",
      "      Successfully uninstalled pip-18.1\n",
      "Successfully installed pip-19.2.3\n"
     ]
    }
   ],
   "source": [
    "!python -m pip install --upgrade pip"
   ]
  },
  {
   "cell_type": "code",
   "execution_count": 4,
   "metadata": {},
   "outputs": [
    {
     "name": "stdout",
     "output_type": "stream",
     "text": [
      "Collecting pyaudio\n",
      "  Downloading https://files.pythonhosted.org/packages/00/1e/92c62b1018ed203b23d0239091d5dc6c1a00771cd6531d2c1b2a05fe1e76/PyAudio-0.2.11-cp35-cp35m-win_amd64.whl (52kB)\n",
      "Installing collected packages: pyaudio\n",
      "Successfully installed pyaudio-0.2.11\n"
     ]
    }
   ],
   "source": [
    "!pip install pyaudio"
   ]
  },
  {
   "cell_type": "code",
   "execution_count": 1,
   "metadata": {},
   "outputs": [
    {
     "data": {
      "text/plain": [
       "'3.8.1'"
      ]
     },
     "execution_count": 1,
     "metadata": {},
     "output_type": "execute_result"
    }
   ],
   "source": [
    "import speech_recognition as sr\n",
    "sr.__version__"
   ]
  },
  {
   "cell_type": "code",
   "execution_count": 9,
   "metadata": {},
   "outputs": [
    {
     "data": {
      "text/plain": [
       "['Microsoft Sound Mapper - Input',\n",
       " 'Microphone Array (Realtek(R) Au',\n",
       " 'Stereo Mix (Realtek(R) Audio)',\n",
       " 'Microsoft Sound Mapper - Output',\n",
       " 'Speaker/Headphone (Realtek(R) A']"
      ]
     },
     "execution_count": 9,
     "metadata": {},
     "output_type": "execute_result"
    }
   ],
   "source": [
    "r = sr.Recognizer()\n",
    "mic = sr.Microphone()\n",
    "sr.Microphone.list_microphone_names()"
   ]
  },
  {
   "cell_type": "code",
   "execution_count": 27,
   "metadata": {},
   "outputs": [],
   "source": [
    "with mic as source:\n",
    "    r.adjust_for_ambient_noise(source)\n",
    "    audio = r.listen(source, timeout=1, phrase_time_limit=10)"
   ]
  },
  {
   "cell_type": "code",
   "execution_count": 28,
   "metadata": {},
   "outputs": [
    {
     "data": {
      "text/plain": [
       "{'error': None, 'success': True, 'transcription': 'Tomatoes are red'}"
      ]
     },
     "execution_count": 28,
     "metadata": {},
     "output_type": "execute_result"
    }
   ],
   "source": [
    "# set up the response object\n",
    "response = {\n",
    "    \"success\": True,\n",
    "    \"error\": None,\n",
    "    \"transcription\": None\n",
    "}\n",
    "\n",
    "# try recognizing the speech in the recording\n",
    "# if a RequestError or UnknownValueError exception is caught,\n",
    "#     update the response object accordingly\n",
    "try:\n",
    "    response[\"transcription\"] = r.recognize_google(audio)\n",
    "except sr.RequestError:\n",
    "    # API was unreachable or unresponsive\n",
    "    response[\"success\"] = False\n",
    "    response[\"error\"] = \"API unavailable\"\n",
    "except sr.UnknownValueError:\n",
    "    # speech was unintelligible\n",
    "    response[\"error\"] = \"Unable to recognize speech\" \n",
    "response"
   ]
  },
  {
   "cell_type": "code",
   "execution_count": 5,
   "metadata": {},
   "outputs": [
    {
     "name": "stdout",
     "output_type": "stream",
     "text": [
      "Requirement already satisfied: gtts in d:\\anaconda-installation\\lib\\site-packages (2.0.4)\n",
      "Requirement already satisfied: gtts-token>=1.1.3 in d:\\anaconda-installation\\lib\\site-packages (from gtts) (1.1.3)\n",
      "Requirement already satisfied: requests in d:\\anaconda-installation\\lib\\site-packages (from gtts) (2.19.1)\n",
      "Requirement already satisfied: click in d:\\anaconda-installation\\lib\\site-packages (from gtts) (6.7)\n",
      "Requirement already satisfied: six in d:\\anaconda-installation\\lib\\site-packages (from gtts) (1.11.0)\n",
      "Requirement already satisfied: beautifulsoup4 in d:\\anaconda-installation\\lib\\site-packages (from gtts) (4.6.3)\n",
      "Requirement already satisfied: urllib3<1.24,>=1.21.1 in d:\\anaconda-installation\\lib\\site-packages (from requests->gtts) (1.23)\n",
      "Requirement already satisfied: chardet<3.1.0,>=3.0.2 in d:\\anaconda-installation\\lib\\site-packages (from requests->gtts) (3.0.4)\n",
      "Requirement already satisfied: idna<2.8,>=2.5 in d:\\anaconda-installation\\lib\\site-packages (from requests->gtts) (2.7)\n",
      "Requirement already satisfied: certifi>=2017.4.17 in d:\\anaconda-installation\\lib\\site-packages (from requests->gtts) (2019.9.11)\n"
     ]
    },
    {
     "name": "stderr",
     "output_type": "stream",
     "text": [
      "You are using pip version 18.1, however version 19.2.3 is available.\n",
      "You should consider upgrading via the 'python -m pip install --upgrade pip' command.\n"
     ]
    }
   ],
   "source": [
    "!pip install gtts"
   ]
  },
  {
   "cell_type": "code",
   "execution_count": 1,
   "metadata": {},
   "outputs": [
    {
     "name": "stdout",
     "output_type": "stream",
     "text": [
      "Bot Created\n",
      "Which is your favourite sport amoungst cricket, tennis and soccer?\n",
      "Please answer in 1 word or a phrase : \n",
      "You answered 'cricket'\n",
      "Correct Response\n",
      "Which is your favourite fruit amoungst apple, orange and banana?\n",
      "Please answer in 1 word or a phrase : \n",
      "sorry, could not recognise\n",
      "Please answer in 1 word or a phrase : \n",
      "You answered 'orange orange'\n",
      "Correct Response\n",
      "Which is your favourite fruit amoungst apple, orange and banana?\n",
      "Please answer in 1 word or a phrase : \n",
      "You answered 'grapes'\n",
      "Incorrect Response\n"
     ]
    }
   ],
   "source": [
    "import speech_recognition as sr\n",
    "from gtts import gTTS\n",
    "import os\n",
    "import random\n",
    "import time\n",
    "\n",
    "class ResponseBot:\n",
    "\n",
    "    def __init__(self):\n",
    "        print('Bot Created')\n",
    "        \n",
    "    def askQuestion(self,questions):\n",
    "        index = random.randint(1,5)\n",
    "        print(questions[index])\n",
    "        return index\n",
    "\n",
    "    def verifyResponse(self, answers, response, index):\n",
    "        for i in answers[index]:\n",
    "            if i in response:\n",
    "                return True\n",
    "        return False\n",
    "    \n",
    "    def getResponse(self):\n",
    "        r=sr.Recognizer()\n",
    "#         print(sr.Microphone.list_microphone_names())\n",
    "        with sr.Microphone() as source:\n",
    "            r.adjust_for_ambient_noise(source,duration=1)\n",
    "        # r.energy_threshold()\n",
    "            print(\"Please answer in 1 word or a phrase : \")\n",
    "            audio= r.listen(source,timeout=2, phrase_time_limit=6)\n",
    "            try:\n",
    "                text = r.recognize_google(audio)\n",
    "                print(\"You answered '\"+text+\"'\")\n",
    "            except:\n",
    "                text = \"sorry, could not recognise\"\n",
    "                print(\"sorry, could not recognise\")\n",
    "        \n",
    "        return text.lower()\n",
    "\n",
    "    # def verifyResponse()\n",
    "    \n",
    "    def deliverResponse(self, text):\n",
    "        language = 'en'\n",
    "        myobj = gTTS(text=text, lang=language, slow=False)\n",
    "        myobj.save('1.mp3')\n",
    "        os.startfile('1.mp3')\n",
    "    \n",
    "a = random.randint(1,10)\n",
    "b = random.randint(1,10)\n",
    "c = a+b\n",
    "questions = {1:'Which is your favourite color amoungst black, blue and gray?',\n",
    "             2:'Which is your favourite sport amoungst cricket, tennis and soccer?',\n",
    "             3:'Which is your favourite fruit amoungst apple, orange and banana?',\n",
    "             4:'What is the value of '+str(a)+' + '+str(b)+'?',\n",
    "             5:'What is the capital of india?'}\n",
    "answers =   {1:['black', 'blue', 'gray', 'grey'],\n",
    "             2:['cricket', 'tennis', 'soccer'],\n",
    "             3:['apple', 'orange', 'banana'],\n",
    "             4:[str(c)],\n",
    "             5:['delhi']}\n",
    "obj = ResponseBot()\n",
    "for _ in range(3):\n",
    "    index = obj.askQuestion(questions)\n",
    "    obj.deliverResponse(questions[index])\n",
    "    time.sleep(5)\n",
    "    response = \"sorry, could not recognise\"\n",
    "    ctr = 3\n",
    "    while response==\"sorry, could not recognise\" and ctr>0:\n",
    "        response = obj.getResponse()\n",
    "        ctr = ctr - 1\n",
    "    flag = obj.verifyResponse(answers, response, index)\n",
    "    if flag == True:\n",
    "        print('Correct Response')\n",
    "    else:\n",
    "        print('Incorrect Response')\n",
    "#     obj.deliverResponse(response)\n",
    "    \n"
   ]
  },
  {
   "cell_type": "code",
   "execution_count": null,
   "metadata": {},
   "outputs": [],
   "source": [
    "!pip install googletrans"
   ]
  },
  {
   "cell_type": "code",
   "execution_count": 4,
   "metadata": {},
   "outputs": [
    {
     "name": "stdout",
     "output_type": "stream",
     "text": [
      "Collecting translate\n",
      "  Downloading https://files.pythonhosted.org/packages/85/b2/2ea329a07bbc0c7227eef84ca89ffd6895e7ec237d6c0b26574d56103e53/translate-3.5.0-py2.py3-none-any.whl\n",
      "Requirement already satisfied: click in d:\\anaconda-installation\\envs\\tensorflow\\lib\\site-packages (from translate) (7.0)\n",
      "Collecting tox (from translate)\n",
      "  Downloading https://files.pythonhosted.org/packages/a7/0c/ed234b83d2c4fcef1cfccf97371183d51dafae62e64334de34d0a6333114/tox-3.14.0-py2.py3-none-any.whl (80kB)\n",
      "Requirement already satisfied: requests in d:\\anaconda-installation\\envs\\tensorflow\\lib\\site-packages (from translate) (2.22.0)\n",
      "Collecting lxml (from translate)\n",
      "  Downloading https://files.pythonhosted.org/packages/b7/03/b931f3dbeecc0c2dc2b703deb277accef290d10050a78b48af824211255c/lxml-4.4.1-cp35-cp35m-win_amd64.whl (3.6MB)\n",
      "Collecting pre-commit (from translate)\n",
      "  Downloading https://files.pythonhosted.org/packages/5b/e2/70050edecec542122bd32789b2c4563d578e0152c0f338f7870b7627afeb/pre_commit-1.18.3-py2.py3-none-any.whl (154kB)\n",
      "Collecting filelock<4,>=3.0.0 (from tox->translate)\n",
      "  Downloading https://files.pythonhosted.org/packages/93/83/71a2ee6158bb9f39a90c0dea1637f81d5eef866e188e1971a1b1ab01a35a/filelock-3.0.12-py3-none-any.whl\n",
      "Collecting toml>=0.9.4 (from tox->translate)\n",
      "  Downloading https://files.pythonhosted.org/packages/a2/12/ced7105d2de62fa7c8fb5fce92cc4ce66b57c95fb875e9318dba7f8c5db0/toml-0.10.0-py2.py3-none-any.whl\n",
      "Collecting virtualenv>=14.0.0 (from tox->translate)\n",
      "  Downloading https://files.pythonhosted.org/packages/8b/12/8d4f45b8962b03ac9efefe5ed5053f6b29334d83e438b4fe379d21c0cb8e/virtualenv-16.7.5-py2.py3-none-any.whl (3.3MB)\n",
      "Collecting py<2,>=1.4.17 (from tox->translate)\n",
      "  Downloading https://files.pythonhosted.org/packages/76/bc/394ad449851729244a97857ee14d7cba61ddb268dce3db538ba2f2ba1f0f/py-1.8.0-py2.py3-none-any.whl (83kB)\n",
      "Collecting importlib-metadata<1,>=0.12; python_version < \"3.8\" (from tox->translate)\n",
      "  Downloading https://files.pythonhosted.org/packages/f6/d2/40b3fa882147719744e6aa50ac39cf7a22a913cbcba86a0371176c425a3b/importlib_metadata-0.23-py2.py3-none-any.whl\n",
      "Requirement already satisfied: six<2,>=1.0.0 in d:\\anaconda-installation\\envs\\tensorflow\\lib\\site-packages (from tox->translate) (1.12.0)\n",
      "Collecting pluggy<1,>=0.12.0 (from tox->translate)\n",
      "  Downloading https://files.pythonhosted.org/packages/92/c7/48439f7d5fd6bddb4c04b850bb862b42e3e2b98570040dfaf68aedd8114b/pluggy-0.13.0-py2.py3-none-any.whl\n",
      "Collecting packaging>=14 (from tox->translate)\n",
      "  Downloading https://files.pythonhosted.org/packages/cf/94/9672c2d4b126e74c4496c6b3c58a8b51d6419267be9e70660ba23374c875/packaging-19.2-py2.py3-none-any.whl\n",
      "Requirement already satisfied: certifi>=2017.4.17 in d:\\anaconda-installation\\envs\\tensorflow\\lib\\site-packages (from requests->translate) (2018.8.24)\n",
      "Requirement already satisfied: idna<2.9,>=2.5 in d:\\anaconda-installation\\envs\\tensorflow\\lib\\site-packages (from requests->translate) (2.8)\n",
      "Requirement already satisfied: urllib3!=1.25.0,!=1.25.1,<1.26,>=1.21.1 in d:\\anaconda-installation\\envs\\tensorflow\\lib\\site-packages (from requests->translate) (1.25.6)\n",
      "Requirement already satisfied: chardet<3.1.0,>=3.0.2 in d:\\anaconda-installation\\envs\\tensorflow\\lib\\site-packages (from requests->translate) (3.0.4)\n",
      "Collecting cfgv>=2.0.0 (from pre-commit->translate)\n",
      "  Downloading https://files.pythonhosted.org/packages/6e/ff/2e6bcaff26058200717c469a0910da96c89bb00e9cc31b68aa0bfc9b1b0d/cfgv-2.0.1-py2.py3-none-any.whl\n",
      "Collecting identify>=1.0.0 (from pre-commit->translate)\n",
      "  Downloading https://files.pythonhosted.org/packages/87/e4/66e3c82550017d3ee03c9f216e0c3dbf1c8c580c567777537adce8823597/identify-1.4.7-py2.py3-none-any.whl (97kB)\n",
      "Collecting importlib-resources; python_version < \"3.7\" (from pre-commit->translate)\n",
      "  Downloading https://files.pythonhosted.org/packages/2f/f7/b4aa02cdd3ee7ebba375969d77c00826aa15c5db84247d23c89522dccbfa/importlib_resources-1.0.2-py2.py3-none-any.whl\n",
      "Collecting nodeenv>=0.11.1 (from pre-commit->translate)\n",
      "  Downloading https://files.pythonhosted.org/packages/00/6e/ed417bd1ed417ab3feada52d0c89ab0ed87d150f91590badf84273e047c9/nodeenv-1.3.3.tar.gz\n",
      "Collecting pyyaml (from pre-commit->translate)\n",
      "  Downloading https://files.pythonhosted.org/packages/0d/e2/c3f8cf0b82aa314d1adb2ffbfa626732ff3dd38eb04b05d4739f8be79291/PyYAML-5.1.2-cp35-cp35m-win_amd64.whl (208kB)\n",
      "Collecting aspy.yaml (from pre-commit->translate)\n",
      "  Downloading https://files.pythonhosted.org/packages/99/ce/78be097b00817ccf02deaf481eb7a603eecee6fa216e82fa7848cd265449/aspy.yaml-1.3.0-py2.py3-none-any.whl\n",
      "Collecting zipp>=0.5 (from importlib-metadata<1,>=0.12; python_version < \"3.8\"->tox->translate)\n",
      "  Downloading https://files.pythonhosted.org/packages/74/3d/1ee25a26411ba0401b43c6376d2316a71addcc72ef8690b101b4ea56d76a/zipp-0.6.0-py2.py3-none-any.whl\n",
      "Requirement already satisfied: pyparsing>=2.0.2 in d:\\anaconda-installation\\envs\\tensorflow\\lib\\site-packages (from packaging>=14->tox->translate) (2.3.0)\n",
      "Collecting more-itertools (from zipp>=0.5->importlib-metadata<1,>=0.12; python_version < \"3.8\"->tox->translate)\n",
      "  Downloading https://files.pythonhosted.org/packages/45/dc/3241eef99eb45f1def35cf93af35d1cf9ef4c0991792583b8f33ea41b092/more_itertools-7.2.0-py3-none-any.whl (57kB)\n",
      "Building wheels for collected packages: nodeenv\n",
      "  Building wheel for nodeenv (setup.py): started\n",
      "  Building wheel for nodeenv (setup.py): finished with status 'done'\n",
      "  Created wheel for nodeenv: filename=nodeenv-1.3.3-cp35-none-any.whl size=21355 sha256=1837318a70a6a56366868b7945cf01957e22d096cd53197de378a93bcbd26fc1\n",
      "  Stored in directory: C:\\Users\\jayes\\AppData\\Local\\pip\\Cache\\wheels\\7b\\6c\\23\\eb26369b77904c8963fae9e64338b0f0b948b4d59710760834\n",
      "Successfully built nodeenv\n",
      "Installing collected packages: filelock, toml, virtualenv, py, more-itertools, zipp, importlib-metadata, pluggy, packaging, tox, lxml, cfgv, identify, importlib-resources, nodeenv, pyyaml, aspy.yaml, pre-commit, translate\n",
      "Successfully installed aspy.yaml-1.3.0 cfgv-2.0.1 filelock-3.0.12 identify-1.4.7 importlib-metadata-0.23 importlib-resources-1.0.2 lxml-4.4.1 more-itertools-7.2.0 nodeenv-1.3.3 packaging-19.2 pluggy-0.13.0 pre-commit-1.18.3 py-1.8.0 pyyaml-5.1.2 toml-0.10.0 tox-3.14.0 translate-3.5.0 virtualenv-16.7.5 zipp-0.6.0\n"
     ]
    }
   ],
   "source": [
    "!pip install translate"
   ]
  },
  {
   "cell_type": "code",
   "execution_count": 7,
   "metadata": {},
   "outputs": [
    {
     "name": "stdout",
     "output_type": "stream",
     "text": [
      "Collecting google-cloud-translate\n",
      "  Downloading https://files.pythonhosted.org/packages/8b/c5/2a04613d16a1858726777e6838c39eebf298f8384dce7520c0184d169209/google_cloud_translate-1.7.0-py2.py3-none-any.whl (90kB)\n",
      "Collecting google-cloud-core<2.0dev,>=1.0.3 (from google-cloud-translate)\n",
      "  Downloading https://files.pythonhosted.org/packages/ee/f0/084f598629db8e6ec3627688723875cdb03637acb6d86999bb105a71df64/google_cloud_core-1.0.3-py2.py3-none-any.whl\n",
      "Requirement already satisfied, skipping upgrade: google-api-core[grpc]<2.0.0dev,>=1.14.0 in d:\\anaconda-installation\\envs\\tensorflow\\lib\\site-packages (from google-cloud-translate) (1.14.2)\n",
      "Requirement already satisfied, skipping upgrade: protobuf>=3.4.0 in d:\\anaconda-installation\\envs\\tensorflow\\lib\\site-packages (from google-api-core[grpc]<2.0.0dev,>=1.14.0->google-cloud-translate) (3.6.1)\n",
      "Requirement already satisfied, skipping upgrade: six>=1.10.0 in d:\\anaconda-installation\\envs\\tensorflow\\lib\\site-packages (from google-api-core[grpc]<2.0.0dev,>=1.14.0->google-cloud-translate) (1.12.0)\n",
      "Requirement already satisfied, skipping upgrade: requests<3.0.0dev,>=2.18.0 in d:\\anaconda-installation\\envs\\tensorflow\\lib\\site-packages (from google-api-core[grpc]<2.0.0dev,>=1.14.0->google-cloud-translate) (2.22.0)\n",
      "Requirement already satisfied, skipping upgrade: pytz in d:\\anaconda-installation\\envs\\tensorflow\\lib\\site-packages (from google-api-core[grpc]<2.0.0dev,>=1.14.0->google-cloud-translate) (2018.7)\n",
      "Requirement already satisfied, skipping upgrade: setuptools>=34.0.0 in d:\\anaconda-installation\\envs\\tensorflow\\lib\\site-packages (from google-api-core[grpc]<2.0.0dev,>=1.14.0->google-cloud-translate) (40.6.3)\n",
      "Requirement already satisfied, skipping upgrade: google-auth<2.0dev,>=0.4.0 in d:\\anaconda-installation\\envs\\tensorflow\\lib\\site-packages (from google-api-core[grpc]<2.0.0dev,>=1.14.0->google-cloud-translate) (1.6.3)\n",
      "Requirement already satisfied, skipping upgrade: googleapis-common-protos<2.0dev,>=1.6.0 in d:\\anaconda-installation\\envs\\tensorflow\\lib\\site-packages (from google-api-core[grpc]<2.0.0dev,>=1.14.0->google-cloud-translate) (1.6.0)\n",
      "Requirement already satisfied, skipping upgrade: grpcio<2.0dev,>=1.8.2; extra == \"grpc\" in d:\\anaconda-installation\\envs\\tensorflow\\lib\\site-packages (from google-api-core[grpc]<2.0.0dev,>=1.14.0->google-cloud-translate) (1.17.1)\n",
      "Requirement already satisfied, skipping upgrade: idna<2.9,>=2.5 in d:\\anaconda-installation\\envs\\tensorflow\\lib\\site-packages (from requests<3.0.0dev,>=2.18.0->google-api-core[grpc]<2.0.0dev,>=1.14.0->google-cloud-translate) (2.8)\n",
      "Requirement already satisfied, skipping upgrade: certifi>=2017.4.17 in d:\\anaconda-installation\\envs\\tensorflow\\lib\\site-packages (from requests<3.0.0dev,>=2.18.0->google-api-core[grpc]<2.0.0dev,>=1.14.0->google-cloud-translate) (2018.8.24)\n",
      "Requirement already satisfied, skipping upgrade: chardet<3.1.0,>=3.0.2 in d:\\anaconda-installation\\envs\\tensorflow\\lib\\site-packages (from requests<3.0.0dev,>=2.18.0->google-api-core[grpc]<2.0.0dev,>=1.14.0->google-cloud-translate) (3.0.4)\n",
      "Requirement already satisfied, skipping upgrade: urllib3!=1.25.0,!=1.25.1,<1.26,>=1.21.1 in d:\\anaconda-installation\\envs\\tensorflow\\lib\\site-packages (from requests<3.0.0dev,>=2.18.0->google-api-core[grpc]<2.0.0dev,>=1.14.0->google-cloud-translate) (1.25.6)\n",
      "Requirement already satisfied, skipping upgrade: rsa>=3.1.4 in d:\\anaconda-installation\\envs\\tensorflow\\lib\\site-packages (from google-auth<2.0dev,>=0.4.0->google-api-core[grpc]<2.0.0dev,>=1.14.0->google-cloud-translate) (4.0)\n",
      "Requirement already satisfied, skipping upgrade: cachetools>=2.0.0 in d:\\anaconda-installation\\envs\\tensorflow\\lib\\site-packages (from google-auth<2.0dev,>=0.4.0->google-api-core[grpc]<2.0.0dev,>=1.14.0->google-cloud-translate) (3.1.1)\n",
      "Requirement already satisfied, skipping upgrade: pyasn1-modules>=0.2.1 in d:\\anaconda-installation\\envs\\tensorflow\\lib\\site-packages (from google-auth<2.0dev,>=0.4.0->google-api-core[grpc]<2.0.0dev,>=1.14.0->google-cloud-translate) (0.2.6)\n",
      "Requirement already satisfied, skipping upgrade: pyasn1>=0.1.3 in d:\\anaconda-installation\\envs\\tensorflow\\lib\\site-packages (from rsa>=3.1.4->google-auth<2.0dev,>=0.4.0->google-api-core[grpc]<2.0.0dev,>=1.14.0->google-cloud-translate) (0.4.7)\n",
      "Installing collected packages: google-cloud-core, google-cloud-translate\n",
      "Successfully installed google-cloud-core-1.0.3 google-cloud-translate-1.7.0\n"
     ]
    }
   ],
   "source": [
    "!pip install --upgrade google-cloud-translate\n"
   ]
  },
  {
   "cell_type": "code",
   "execution_count": 8,
   "metadata": {},
   "outputs": [
    {
     "ename": "DefaultCredentialsError",
     "evalue": "Could not automatically determine credentials. Please set GOOGLE_APPLICATION_CREDENTIALS or explicitly create credentials and re-run the application. For more information, please see https://cloud.google.com/docs/authentication/getting-started",
     "output_type": "error",
     "traceback": [
      "\u001b[1;31m---------------------------------------------------------------------------\u001b[0m",
      "\u001b[1;31mDefaultCredentialsError\u001b[0m                   Traceback (most recent call last)",
      "\u001b[1;32m<ipython-input-8-6d3d046dfa71>\u001b[0m in \u001b[0;36m<module>\u001b[1;34m\u001b[0m\n\u001b[0;32m      8\u001b[0m \u001b[1;33m\u001b[0m\u001b[0m\n\u001b[0;32m      9\u001b[0m \u001b[1;33m\u001b[0m\u001b[0m\n\u001b[1;32m---> 10\u001b[1;33m \u001b[0mtranslate_client\u001b[0m \u001b[1;33m=\u001b[0m \u001b[0mtranslate\u001b[0m\u001b[1;33m.\u001b[0m\u001b[0mClient\u001b[0m\u001b[1;33m(\u001b[0m\u001b[1;33m)\u001b[0m\u001b[1;33m\u001b[0m\u001b[0m\n\u001b[0m\u001b[0;32m     11\u001b[0m \u001b[0mclient\u001b[0m \u001b[1;33m=\u001b[0m \u001b[0mtexttospeech\u001b[0m\u001b[1;33m.\u001b[0m\u001b[0mTextToSpeechClient\u001b[0m\u001b[1;33m(\u001b[0m\u001b[1;33m)\u001b[0m\u001b[1;33m\u001b[0m\u001b[0m\n\u001b[0;32m     12\u001b[0m \u001b[1;33m\u001b[0m\u001b[0m\n",
      "\u001b[1;32md:\\anaconda-installation\\envs\\tensorflow\\lib\\site-packages\\google\\cloud\\translate_v2\\client.py\u001b[0m in \u001b[0;36m__init__\u001b[1;34m(self, target_language, credentials, _http, client_info, client_options)\u001b[0m\n\u001b[0;32m     80\u001b[0m     ):\n\u001b[0;32m     81\u001b[0m         \u001b[0mself\u001b[0m\u001b[1;33m.\u001b[0m\u001b[0mtarget_language\u001b[0m \u001b[1;33m=\u001b[0m \u001b[0mtarget_language\u001b[0m\u001b[1;33m\u001b[0m\u001b[0m\n\u001b[1;32m---> 82\u001b[1;33m         \u001b[0msuper\u001b[0m\u001b[1;33m(\u001b[0m\u001b[0mClient\u001b[0m\u001b[1;33m,\u001b[0m \u001b[0mself\u001b[0m\u001b[1;33m)\u001b[0m\u001b[1;33m.\u001b[0m\u001b[0m__init__\u001b[0m\u001b[1;33m(\u001b[0m\u001b[0mcredentials\u001b[0m\u001b[1;33m=\u001b[0m\u001b[0mcredentials\u001b[0m\u001b[1;33m,\u001b[0m \u001b[0m_http\u001b[0m\u001b[1;33m=\u001b[0m\u001b[0m_http\u001b[0m\u001b[1;33m)\u001b[0m\u001b[1;33m\u001b[0m\u001b[0m\n\u001b[0m\u001b[0;32m     83\u001b[0m \u001b[1;33m\u001b[0m\u001b[0m\n\u001b[0;32m     84\u001b[0m         \u001b[0mkw_args\u001b[0m \u001b[1;33m=\u001b[0m \u001b[1;33m{\u001b[0m\u001b[1;34m\"client_info\"\u001b[0m\u001b[1;33m:\u001b[0m \u001b[0mclient_info\u001b[0m\u001b[1;33m}\u001b[0m\u001b[1;33m\u001b[0m\u001b[0m\n",
      "\u001b[1;32md:\\anaconda-installation\\envs\\tensorflow\\lib\\site-packages\\google\\cloud\\client.py\u001b[0m in \u001b[0;36m__init__\u001b[1;34m(self, credentials, _http)\u001b[0m\n\u001b[0;32m    130\u001b[0m             \u001b[1;32mraise\u001b[0m \u001b[0mValueError\u001b[0m\u001b[1;33m(\u001b[0m\u001b[0m_GOOGLE_AUTH_CREDENTIALS_HELP\u001b[0m\u001b[1;33m)\u001b[0m\u001b[1;33m\u001b[0m\u001b[0m\n\u001b[0;32m    131\u001b[0m         \u001b[1;32mif\u001b[0m \u001b[0mcredentials\u001b[0m \u001b[1;32mis\u001b[0m \u001b[1;32mNone\u001b[0m \u001b[1;32mand\u001b[0m \u001b[0m_http\u001b[0m \u001b[1;32mis\u001b[0m \u001b[1;32mNone\u001b[0m\u001b[1;33m:\u001b[0m\u001b[1;33m\u001b[0m\u001b[0m\n\u001b[1;32m--> 132\u001b[1;33m             \u001b[0mcredentials\u001b[0m\u001b[1;33m,\u001b[0m \u001b[0m_\u001b[0m \u001b[1;33m=\u001b[0m \u001b[0mgoogle\u001b[0m\u001b[1;33m.\u001b[0m\u001b[0mauth\u001b[0m\u001b[1;33m.\u001b[0m\u001b[0mdefault\u001b[0m\u001b[1;33m(\u001b[0m\u001b[1;33m)\u001b[0m\u001b[1;33m\u001b[0m\u001b[0m\n\u001b[0m\u001b[0;32m    133\u001b[0m         self._credentials = google.auth.credentials.with_scopes_if_required(\n\u001b[0;32m    134\u001b[0m             \u001b[0mcredentials\u001b[0m\u001b[1;33m,\u001b[0m \u001b[0mself\u001b[0m\u001b[1;33m.\u001b[0m\u001b[0mSCOPE\u001b[0m\u001b[1;33m\u001b[0m\u001b[0m\n",
      "\u001b[1;32md:\\anaconda-installation\\envs\\tensorflow\\lib\\site-packages\\google\\auth\\_default.py\u001b[0m in \u001b[0;36mdefault\u001b[1;34m(scopes, request)\u001b[0m\n\u001b[0;32m    315\u001b[0m             \u001b[1;32mreturn\u001b[0m \u001b[0mcredentials\u001b[0m\u001b[1;33m,\u001b[0m \u001b[0meffective_project_id\u001b[0m\u001b[1;33m\u001b[0m\u001b[0m\n\u001b[0;32m    316\u001b[0m \u001b[1;33m\u001b[0m\u001b[0m\n\u001b[1;32m--> 317\u001b[1;33m     \u001b[1;32mraise\u001b[0m \u001b[0mexceptions\u001b[0m\u001b[1;33m.\u001b[0m\u001b[0mDefaultCredentialsError\u001b[0m\u001b[1;33m(\u001b[0m\u001b[0m_HELP_MESSAGE\u001b[0m\u001b[1;33m)\u001b[0m\u001b[1;33m\u001b[0m\u001b[0m\n\u001b[0m",
      "\u001b[1;31mDefaultCredentialsError\u001b[0m: Could not automatically determine credentials. Please set GOOGLE_APPLICATION_CREDENTIALS or explicitly create credentials and re-run the application. For more information, please see https://cloud.google.com/docs/authentication/getting-started"
     ]
    }
   ],
   "source": [
    "import speech_recognition as sr\n",
    "import os\n",
    "import random\n",
    "import time\n",
    "from googletrans import Translator\n",
    "from google.cloud import texttospeech\n",
    "from google.cloud import translate\n",
    "\n",
    "\n",
    "translate_client = translate.Client()\n",
    "client = texttospeech.TextToSpeechClient()\n",
    "\n",
    "\n",
    "\n",
    "class ResponseBot:\n",
    "\n",
    "    def __init__(self):\n",
    "        print('Bot Created')\n",
    "        \n",
    "    def askQuestion(self,questions):\n",
    "        index = random.randint(1,5)\n",
    "        print(questions[index])\n",
    "        return index\n",
    "\n",
    "    def verifyResponse(self, answers, response, index, flag):\n",
    "\n",
    "        for i in answers[index]:\n",
    "            if i in response:\n",
    "                return True\n",
    "        return False\n",
    "    \n",
    "    def getResponse(self,flag):\n",
    "        r=sr.Recognizer()\n",
    "#         print(sr.Microphone.list_microphone_names())\n",
    "        with sr.Microphone() as source:\n",
    "            r.adjust_for_ambient_noise(source,duration=1)\n",
    "        # r.energy_threshold()\n",
    "            print(\"Please answer in 1 word or a phrase : \")\n",
    "            audio= r.listen(source)\n",
    "            try:\n",
    "                if flag == 1:\n",
    "                    text = r.recognize_google(audio, language = 'hi-IN')\n",
    "                else:\n",
    "                    text = r.recognize_google(audio)\n",
    "                # print(\"You answered '\"+text+\"'\")\n",
    "            except:\n",
    "                text = \"sorry, could not recognise\"\n",
    "                print(\"sorry, could not recognise\")\n",
    "        \n",
    "        if flag == 1:\n",
    "            translation = translate_client.translate(text,target_language='en')\n",
    "            text = translation['translatedText']\n",
    "            print(\"Translated Text: {}\".format(translation['translatedText']))\n",
    "            # return text\n",
    "        \n",
    "        return text.lower()\n",
    "    # def verifyResponse()\n",
    "    \n",
    "    def deliverResponse(self, text, flag):\n",
    "        # language = 'e'\n",
    "        if flag == 1:\n",
    "            translation = translate_client.translate(text,target_language='hi')\n",
    "            text = translation['translatedText']\n",
    "            print(translation['translatedText'])\n",
    "\n",
    "        \n",
    "        synthesis_input = texttospeech.types.SynthesisInput(text=text)\n",
    "        voice = texttospeech.types.VoiceSelectionParams(language_code='hi',ssml_gender=texttospeech.enums.SsmlVoiceGender.NEUTRAL)\n",
    "        audio_config = texttospeech.types.AudioConfig(audio_encoding=texttospeech.enums.AudioEncoding.MP3)\n",
    "        response = client.synthesize_speech(synthesis_input, voice, audio_config)\n",
    "        with open('output.mp3', 'wb') as out:\n",
    "            out.write(response.audio_content)\n",
    "\n",
    "        os.system('mpg321 output.mp3')\n",
    "\n",
    "\n",
    "\n",
    "\n",
    "\n",
    "a = random.randint(1,10)\n",
    "b = random.randint(1,10)\n",
    "c = a+b\n",
    "questions = {1:'Which is your favourite color amoungst black, blue and gray?',\n",
    "             2:'Which is your favourite sport amoungst cricket, tennis and soccer?',\n",
    "             3:'Which is your favourite fruit amoungst apple, orange and banana?',\n",
    "             4:'What is the value of '+str(a)+' + '+str(b)+'?',\n",
    "             5:'What is the capital of india?'}\n",
    "answers =   {1:['black', 'blue', 'gray', 'grey'],\n",
    "             2:['cricket', 'tennis', 'soccer'],\n",
    "             3:['apple', 'orange', 'banana'],\n",
    "             4:[str(c)],\n",
    "             5:['delhi']}\n",
    "\n",
    "#Driver Code\n",
    "obj = ResponseBot()\n",
    "flag = 1\n",
    "for _ in range(3):\n",
    "    index = obj.askQuestion(questions)\n",
    "    obj.deliverResponse(questions[index],flag)\n",
    "    # time.sleep(5)\n",
    "    response = \"sorry, could not recognise\"\n",
    "    ctr = 3\n",
    "    while response==\"sorry, could not recognise\" and ctr>0:\n",
    "        response = obj.getResponse(flag)\n",
    "        print(1)\n",
    "        ctr = ctr - 1\n",
    "    flag = obj.verifyResponse(answers, response, index, flag)\n",
    "    if flag == True:\n",
    "        print('Correct Response')\n",
    "    else:\n",
    "        print('Incorrect Response')"
   ]
  },
  {
   "cell_type": "code",
   "execution_count": null,
   "metadata": {},
   "outputs": [],
   "source": []
  }
 ],
 "metadata": {
  "kernelspec": {
   "display_name": "Python 3",
   "language": "python",
   "name": "python3"
  },
  "language_info": {
   "codemirror_mode": {
    "name": "ipython",
    "version": 3
   },
   "file_extension": ".py",
   "mimetype": "text/x-python",
   "name": "python",
   "nbconvert_exporter": "python",
   "pygments_lexer": "ipython3",
   "version": "3.5.6"
  }
 },
 "nbformat": 4,
 "nbformat_minor": 2
}
